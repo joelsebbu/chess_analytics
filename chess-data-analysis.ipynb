{
 "cells": [
  {
   "cell_type": "markdown",
   "metadata": {},
   "source": [
    "# Chess Openings Analytics"
   ]
  },
  {
   "cell_type": "markdown",
   "metadata": {},
   "source": [
    "## Random Forest Classifier Training and Testing"
   ]
  },
  {
   "cell_type": "code",
   "execution_count": 1,
   "metadata": {},
   "outputs": [],
   "source": [
    "import joblib\n",
    "import pandas as pd\n",
    "from sklearn.preprocessing import LabelEncoder\n",
    "from sklearn.model_selection import train_test_split\n",
    "from sklearn.ensemble import RandomForestClassifier"
   ]
  },
  {
   "cell_type": "code",
   "execution_count": 2,
   "metadata": {},
   "outputs": [],
   "source": [
    "serious_games = pd.read_csv('data/serious_games.csv')\n",
    "\n",
    "le_opening = LabelEncoder()\n",
    "\n",
    "serious_games['Opening'] = le_opening.fit_transform(serious_games['Opening'])\n",
    "\n",
    "encoded = pd.get_dummies(serious_games[[ 'WhiteElo', 'BlackElo', 'Result', 'Opening' ]], columns = ['Result'])"
   ]
  },
  {
   "cell_type": "code",
   "execution_count": null,
   "metadata": {},
   "outputs": [],
   "source": [
    "encoded"
   ]
  },
  {
   "cell_type": "code",
   "execution_count": 4,
   "metadata": {},
   "outputs": [],
   "source": [
    "opening_encodings = dict(zip(le_opening.classes_, le_opening.transform(le_opening.classes_)))"
   ]
  },
  {
   "cell_type": "code",
   "execution_count": null,
   "metadata": {},
   "outputs": [],
   "source": [
    "opening_encodings"
   ]
  },
  {
   "cell_type": "code",
   "execution_count": 6,
   "metadata": {},
   "outputs": [],
   "source": [
    "X = encoded[[ 'WhiteElo', 'BlackElo', 'Opening' ]]\n",
    "y = encoded.drop([ 'WhiteElo', 'BlackElo', 'Opening' ], axis=1)\n",
    "\n",
    "X_train, X_test, y_train, y_test = train_test_split(X, y, test_size=0.20, random_state=42)"
   ]
  },
  {
   "cell_type": "code",
   "execution_count": 7,
   "metadata": {},
   "outputs": [],
   "source": [
    "rf_Model = RandomForestClassifier(n_jobs=12)"
   ]
  },
  {
   "cell_type": "code",
   "execution_count": null,
   "metadata": {},
   "outputs": [],
   "source": [
    "rf_Model.fit(X_train, y_train)"
   ]
  },
  {
   "cell_type": "code",
   "execution_count": 9,
   "metadata": {},
   "outputs": [],
   "source": [
    "# # load\n",
    "# rf_Model = joblib.load(\"data/serious_games.joblib\")"
   ]
  },
  {
   "cell_type": "code",
   "execution_count": null,
   "metadata": {},
   "outputs": [],
   "source": [
    "print(rf_Model.score(X_train, y_train))\n",
    "print(rf_Model.score(X_test, y_test))"
   ]
  },
  {
   "cell_type": "code",
   "execution_count": null,
   "metadata": {},
   "outputs": [],
   "source": [
    "white_elo = 1500\n",
    "black_elo = 1600\n",
    "opening_encoded = 0\n",
    "\n",
    "\n",
    "input_data = [[white_elo, black_elo, opening_encoded]]\n",
    "\n",
    "# Predict probabilities for the input\n",
    "probabilities = rf_Model.predict_proba(input_data)\n",
    "\n",
    "# Convert to percentages\n",
    "percentages = [ prob[0][1] * 100 for prob in probabilities ]\n",
    "\n",
    "# Assuming you have three possible results: 0 (black win), 1 (white win), 2 (draw)\n",
    "results = [ 'Black Wins', 'White Wins', 'Draw' ]\n",
    "\n",
    "# Print the result with percentages\n",
    "for result, percentage in zip(results, percentages):\n",
    "    print(f\"{result}: {percentage:.2f}%\")"
   ]
  },
  {
   "cell_type": "code",
   "execution_count": null,
   "metadata": {},
   "outputs": [],
   "source": [
    "rf_Model.predict([[1825, 2325, 113]])"
   ]
  },
  {
   "cell_type": "code",
   "execution_count": null,
   "metadata": {},
   "outputs": [],
   "source": [
    "rf_Model.predict([[2000, 2000, 0]])"
   ]
  },
  {
   "cell_type": "code",
   "execution_count": null,
   "metadata": {},
   "outputs": [],
   "source": [
    "# # save\n",
    "# joblib.dump(rf_Model, \"data/serious_games.joblib\")"
   ]
  }
 ],
 "metadata": {
  "kernelspec": {
   "display_name": "py-chess-2",
   "language": "python",
   "name": "python3"
  },
  "language_info": {
   "codemirror_mode": {
    "name": "ipython",
    "version": 3
   },
   "file_extension": ".py",
   "mimetype": "text/x-python",
   "name": "python",
   "nbconvert_exporter": "python",
   "pygments_lexer": "ipython3",
   "version": "3.10.15"
  }
 },
 "nbformat": 4,
 "nbformat_minor": 2
}
