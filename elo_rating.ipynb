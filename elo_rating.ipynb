{
 "cells": [
  {
   "cell_type": "code",
   "execution_count": 1,
   "metadata": {},
   "outputs": [],
   "source": [
    "import csv"
   ]
  },
  {
   "cell_type": "code",
   "execution_count": 3,
   "metadata": {},
   "outputs": [],
   "source": [
    "def analyze_chess_games(file_path):\n",
    "    results = []\n",
    "    \n",
    "    with open(file_path, 'r') as csvfile:\n",
    "        reader = csv.DictReader(csvfile)\n",
    "        \n",
    "        for row in reader:\n",
    "            # Convert ELO ratings to integers\n",
    "            white_elo = int(row['WhiteElo'])\n",
    "            black_elo = int(row['BlackElo'])\n",
    "            \n",
    "            # Calculate ELO difference\n",
    "            elo_difference = abs(white_elo - black_elo)\n",
    "            \n",
    "            # Only process games with ELO difference > 200\n",
    "            if elo_difference <= 200:\n",
    "                continue\n",
    "            \n",
    "            # Determine higher rated player\n",
    "            higher_rated_player = 'white' if white_elo > black_elo else 'black'\n",
    "            \n",
    "            # Parse result\n",
    "            game_result = row['Result']\n",
    "            if game_result == '1-0':\n",
    "                winner = 'white'\n",
    "            elif game_result == '0-1':\n",
    "                winner = 'black'\n",
    "            else:  # '1-1' or '0-0'\n",
    "                winner = 'draw'\n",
    "            \n",
    "            # Check if higher rated player won\n",
    "            higher_rated_won = (winner == higher_rated_player)\n",
    "            if winner == 'draw':\n",
    "                higher_rated_won = False\n",
    "            \n",
    "            # Create game dictionary\n",
    "            game_dict = {\n",
    "                'white_elo': white_elo,\n",
    "                'black_elo': black_elo,\n",
    "                'elo_difference': elo_difference,\n",
    "                'higher_rated_player': higher_rated_player,\n",
    "                'winner': winner,\n",
    "                'higher_rated_won': higher_rated_won\n",
    "            }\n",
    "            \n",
    "            results.append(game_dict)\n",
    "    \n",
    "    return results"
   ]
  },
  {
   "cell_type": "code",
   "execution_count": 4,
   "metadata": {},
   "outputs": [],
   "source": [
    "results = analyze_chess_games('serious_games.csv')"
   ]
  },
  {
   "cell_type": "code",
   "execution_count": 10,
   "metadata": {},
   "outputs": [
    {
     "name": "stdout",
     "output_type": "stream",
     "text": [
      "total_count:  325867\n"
     ]
    }
   ],
   "source": [
    "print('total_count: ', len(results))"
   ]
  },
  {
   "cell_type": "code",
   "execution_count": 13,
   "metadata": {},
   "outputs": [
    {
     "name": "stdout",
     "output_type": "stream",
     "text": [
      "total_count:  325867\n",
      "win_count:  258707\n",
      "lost_count:  67160\n",
      "win_percentage:  79.39036478072342\n",
      "lost_percentage:  20.609635219276576\n"
     ]
    }
   ],
   "source": [
    "lost_count = 0\n",
    "win_count= 0\n",
    "for game in results:\n",
    "    if game['higher_rated_won'] == True:\n",
    "        # print(f\"Game Analysis: {game}\")\n",
    "        win_count+=1\n",
    "    else:\n",
    "        lost_count +=1\n",
    "print('total_count: ', len(results))\n",
    "print('win_count: ', win_count)\n",
    "print('lost_count: ',lost_count)\n",
    "print('win_percentage: ', win_count/len(results) * 100)\n",
    "print('lost_percentage: ',lost_count/len(results) * 100)"
   ]
  }
 ],
 "metadata": {
  "kernelspec": {
   "display_name": "py-chess",
   "language": "python",
   "name": "python3"
  },
  "language_info": {
   "codemirror_mode": {
    "name": "ipython",
    "version": 3
   },
   "file_extension": ".py",
   "mimetype": "text/x-python",
   "name": "python",
   "nbconvert_exporter": "python",
   "pygments_lexer": "ipython3",
   "version": "3.10.15"
  }
 },
 "nbformat": 4,
 "nbformat_minor": 2
}
