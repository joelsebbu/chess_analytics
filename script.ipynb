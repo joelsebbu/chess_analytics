{
 "cells": [
  {
   "cell_type": "code",
   "execution_count": 1,
   "metadata": {},
   "outputs": [],
   "source": [
    "from functions import iter_games, write_to_csv, generate_batch_ranges_and_files, count_games_in_pgn"
   ]
  },
  {
   "cell_type": "markdown",
   "metadata": {},
   "source": [
    "total game count in the file `lichess_db_standard_rated_2016-03.pgn` is `5,801,234`"
   ]
  },
  {
   "cell_type": "code",
   "execution_count": 8,
   "metadata": {},
   "outputs": [],
   "source": [
    "pgn_file = \"lichess_db_standard_rated_2016-03\"\n",
    "pgn_file_path = f\"{pgn_file}.pgn\"\n",
    "batch_size = 100_000\n",
    "\n",
    "csv_game_file_name = 'first_100k.csv'\n",
    "csv_error_file_name = 'first_100k_errors.csv'\n",
    "\n",
    "csv_game_headers = [\n",
    "    \"Event\",\n",
    "    \"Site\",\n",
    "    \"White\", \n",
    "    \"Black\", \n",
    "    \"Result\", \n",
    "    \"WhiteElo\",\n",
    "    \"BlackElo\", \n",
    "    \"WhiteRatingDiff\", \n",
    "    \"BlackRatingDiff\", \n",
    "    \"ECO\", \n",
    "    \"Opening\", \n",
    "    \"TimeControl\", \n",
    "    \"Termination\"\n",
    "]\n",
    "csv_error_headers = [\n",
    "    \"Site\",\n",
    "    \"key\"\n",
    "]\n",
    "\n"
   ]
  },
  {
   "cell_type": "code",
   "execution_count": null,
   "metadata": {},
   "outputs": [],
   "source": [
    "total_games = count_games_in_pgn(pgn_file_path)"
   ]
  },
  {
   "cell_type": "code",
   "execution_count": 6,
   "metadata": {},
   "outputs": [],
   "source": [
    "ranges = generate_batch_ranges_and_files(total_games, batch_size)"
   ]
  },
  {
   "cell_type": "code",
   "execution_count": 7,
   "metadata": {},
   "outputs": [
    {
     "name": "stdout",
     "output_type": "stream",
     "text": [
      "range: games_0-99999.csv is done\n",
      "range: games_100000-199999.csv is done\n",
      "range: games_200000-299999.csv is done\n",
      "range: games_300000-399999.csv is done\n",
      "range: games_400000-499999.csv is done\n",
      "range: games_500000-599999.csv is done\n",
      "range: games_600000-699999.csv is done\n",
      "range: games_700000-799999.csv is done\n",
      "range: games_800000-899999.csv is done\n",
      "range: games_900000-999999.csv is done\n",
      "range: games_1000000-1099999.csv is done\n",
      "range: games_1100000-1199999.csv is done\n",
      "range: games_1200000-1299999.csv is done\n",
      "range: games_1300000-1399999.csv is done\n",
      "range: games_1400000-1499999.csv is done\n",
      "range: games_1500000-1599999.csv is done\n",
      "range: games_1600000-1699999.csv is done\n",
      "range: games_1700000-1799999.csv is done\n",
      "range: games_1800000-1899999.csv is done\n",
      "range: games_1900000-1999999.csv is done\n",
      "range: games_2000000-2099999.csv is done\n",
      "range: games_2100000-2199999.csv is done\n",
      "range: games_2200000-2299999.csv is done\n",
      "range: games_2300000-2399999.csv is done\n",
      "range: games_2400000-2499999.csv is done\n",
      "range: games_2500000-2599999.csv is done\n",
      "range: games_2600000-2699999.csv is done\n",
      "range: games_2700000-2799999.csv is done\n",
      "range: games_2800000-2899999.csv is done\n",
      "range: games_2900000-2999999.csv is done\n",
      "range: games_3000000-3099999.csv is done\n",
      "range: games_3100000-3199999.csv is done\n",
      "range: games_3200000-3299999.csv is done\n",
      "range: games_3300000-3399999.csv is done\n",
      "range: games_3400000-3499999.csv is done\n",
      "range: games_3500000-3599999.csv is done\n",
      "range: games_3600000-3699999.csv is done\n",
      "range: games_3700000-3799999.csv is done\n",
      "range: games_3800000-3899999.csv is done\n",
      "range: games_3900000-3999999.csv is done\n",
      "range: games_4000000-4099999.csv is done\n",
      "range: games_4100000-4199999.csv is done\n",
      "range: games_4200000-4299999.csv is done\n",
      "range: games_4300000-4399999.csv is done\n",
      "range: games_4400000-4499999.csv is done\n",
      "range: games_4500000-4599999.csv is done\n",
      "range: games_4600000-4699999.csv is done\n",
      "range: games_4700000-4799999.csv is done\n",
      "range: games_4800000-4899999.csv is done\n",
      "range: games_4900000-4999999.csv is done\n",
      "range: games_5000000-5099999.csv is done\n",
      "range: games_5100000-5199999.csv is done\n",
      "range: games_5200000-5299999.csv is done\n",
      "range: games_5300000-5399999.csv is done\n",
      "range: games_5400000-5499999.csv is done\n",
      "range: games_5500000-5599999.csv is done\n",
      "range: games_5600000-5699999.csv is done\n",
      "range: games_5700000-5799999.csv is done\n",
      "range: games_5800000-5801233.csv is done\n"
     ]
    }
   ],
   "source": [
    "for range in ranges:\n",
    "    csv_games = []\n",
    "    csv_games_error_logs = []\n",
    "    csv_games.append(csv_game_headers)\n",
    "    csv_games_error_logs.append(csv_error_headers)\n",
    "    iter_games(\n",
    "        pgn_file_path,\n",
    "        range[0][0],\n",
    "        range[0][1],\n",
    "        csv_game_headers,\n",
    "        csv_games,\n",
    "        csv_games_error_logs\n",
    "    )\n",
    "    write_to_csv(f'{pgn_file}/games/'+range[1], csv_games)\n",
    "    write_to_csv(f'{pgn_file}/errors/'+range[1], csv_games_error_logs)\n",
    "    print(f\"range: {range[1]} is done\")\n"
   ]
  }
 ],
 "metadata": {
  "kernelspec": {
   "display_name": "py-chess",
   "language": "python",
   "name": "python3"
  },
  "language_info": {
   "codemirror_mode": {
    "name": "ipython",
    "version": 3
   },
   "file_extension": ".py",
   "mimetype": "text/x-python",
   "name": "python",
   "nbconvert_exporter": "python",
   "pygments_lexer": "ipython3",
   "version": "3.10.15"
  }
 },
 "nbformat": 4,
 "nbformat_minor": 2
}
